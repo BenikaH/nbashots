{
 "cells": [
  {
   "cell_type": "code",
   "execution_count": 25,
   "metadata": {
    "collapsed": true
   },
   "outputs": [],
   "source": [
    "import nbaShotCharts as nba\n",
    "import pandas as pd"
   ]
  },
  {
   "cell_type": "code",
   "execution_count": 2,
   "metadata": {
    "collapsed": true
   },
   "outputs": [],
   "source": [
    "df = nba.get_player_id(\"ALL\")"
   ]
  },
  {
   "cell_type": "code",
   "execution_count": 5,
   "metadata": {
    "collapsed": false
   },
   "outputs": [
    {
     "data": {
      "text/html": [
       "<div>\n",
       "<table border=\"1\" class=\"dataframe\">\n",
       "  <thead>\n",
       "    <tr style=\"text-align: right;\">\n",
       "      <th></th>\n",
       "      <th>PERSON_ID</th>\n",
       "      <th>DISPLAY_LAST_COMMA_FIRST</th>\n",
       "      <th>ROSTERSTATUS</th>\n",
       "      <th>FROM_YEAR</th>\n",
       "      <th>TO_YEAR</th>\n",
       "      <th>PLAYERCODE</th>\n",
       "      <th>TEAM_ID</th>\n",
       "      <th>TEAM_CITY</th>\n",
       "      <th>TEAM_NAME</th>\n",
       "      <th>TEAM_ABBREVIATION</th>\n",
       "      <th>TEAM_CODE</th>\n",
       "      <th>GAMES_PLAYED_FLAG</th>\n",
       "    </tr>\n",
       "  </thead>\n",
       "  <tbody>\n",
       "    <tr>\n",
       "      <th>0</th>\n",
       "      <td>76001</td>\n",
       "      <td>Abdelnaby, Alaa</td>\n",
       "      <td>0</td>\n",
       "      <td>1990</td>\n",
       "      <td>1994</td>\n",
       "      <td>HISTADD_alaa_abdelnaby</td>\n",
       "      <td>0</td>\n",
       "      <td></td>\n",
       "      <td></td>\n",
       "      <td></td>\n",
       "      <td></td>\n",
       "      <td>Y</td>\n",
       "    </tr>\n",
       "    <tr>\n",
       "      <th>1</th>\n",
       "      <td>76002</td>\n",
       "      <td>Abdul-Aziz, Zaid</td>\n",
       "      <td>0</td>\n",
       "      <td>1968</td>\n",
       "      <td>1977</td>\n",
       "      <td>HISTADD_zaid_abdul-aziz</td>\n",
       "      <td>0</td>\n",
       "      <td></td>\n",
       "      <td></td>\n",
       "      <td></td>\n",
       "      <td></td>\n",
       "      <td>Y</td>\n",
       "    </tr>\n",
       "    <tr>\n",
       "      <th>2</th>\n",
       "      <td>76003</td>\n",
       "      <td>Abdul-Jabbar, Kareem</td>\n",
       "      <td>0</td>\n",
       "      <td>1969</td>\n",
       "      <td>1988</td>\n",
       "      <td>HISTADD_kareem_abdul-jabbar</td>\n",
       "      <td>0</td>\n",
       "      <td></td>\n",
       "      <td></td>\n",
       "      <td></td>\n",
       "      <td></td>\n",
       "      <td>Y</td>\n",
       "    </tr>\n",
       "    <tr>\n",
       "      <th>3</th>\n",
       "      <td>51</td>\n",
       "      <td>Abdul-Rauf, Mahmoud</td>\n",
       "      <td>0</td>\n",
       "      <td>1990</td>\n",
       "      <td>2000</td>\n",
       "      <td>HISTADD_mahmoud_abdul-rauf</td>\n",
       "      <td>0</td>\n",
       "      <td></td>\n",
       "      <td></td>\n",
       "      <td></td>\n",
       "      <td></td>\n",
       "      <td>Y</td>\n",
       "    </tr>\n",
       "    <tr>\n",
       "      <th>4</th>\n",
       "      <td>1505</td>\n",
       "      <td>Abdul-Wahad, Tariq</td>\n",
       "      <td>0</td>\n",
       "      <td>1997</td>\n",
       "      <td>2003</td>\n",
       "      <td>tariq_abdul-wahad</td>\n",
       "      <td>0</td>\n",
       "      <td></td>\n",
       "      <td></td>\n",
       "      <td></td>\n",
       "      <td></td>\n",
       "      <td>Y</td>\n",
       "    </tr>\n",
       "  </tbody>\n",
       "</table>\n",
       "</div>"
      ],
      "text/plain": [
       "   PERSON_ID DISPLAY_LAST_COMMA_FIRST  ROSTERSTATUS  FROM_YEAR  TO_YEAR  \\\n",
       "0      76001          Abdelnaby, Alaa             0       1990     1994   \n",
       "1      76002         Abdul-Aziz, Zaid             0       1968     1977   \n",
       "2      76003     Abdul-Jabbar, Kareem             0       1969     1988   \n",
       "3         51      Abdul-Rauf, Mahmoud             0       1990     2000   \n",
       "4       1505       Abdul-Wahad, Tariq             0       1997     2003   \n",
       "\n",
       "                    PLAYERCODE  TEAM_ID TEAM_CITY TEAM_NAME TEAM_ABBREVIATION  \\\n",
       "0       HISTADD_alaa_abdelnaby        0                                         \n",
       "1      HISTADD_zaid_abdul-aziz        0                                         \n",
       "2  HISTADD_kareem_abdul-jabbar        0                                         \n",
       "3   HISTADD_mahmoud_abdul-rauf        0                                         \n",
       "4            tariq_abdul-wahad        0                                         \n",
       "\n",
       "  TEAM_CODE GAMES_PLAYED_FLAG  \n",
       "0                           Y  \n",
       "1                           Y  \n",
       "2                           Y  \n",
       "3                           Y  \n",
       "4                           Y  "
      ]
     },
     "execution_count": 5,
     "metadata": {},
     "output_type": "execute_result"
    }
   ],
   "source": [
    "df.head()"
   ]
  },
  {
   "cell_type": "code",
   "execution_count": 23,
   "metadata": {
    "collapsed": false
   },
   "outputs": [
    {
     "data": {
      "text/plain": [
       "numpy.ndarray"
      ]
     },
     "execution_count": 23,
     "metadata": {},
     "output_type": "execute_result"
    }
   ],
   "source": [
    "type(df.TEAM_NAME.unique())"
   ]
  },
  {
   "cell_type": "code",
   "execution_count": 11,
   "metadata": {
    "collapsed": false
   },
   "outputs": [
    {
     "data": {
      "text/plain": [
       "31"
      ]
     },
     "execution_count": 11,
     "metadata": {},
     "output_type": "execute_result"
    }
   ],
   "source": [
    "len(df.TEAM_NAME.unique())"
   ]
  },
  {
   "cell_type": "code",
   "execution_count": 22,
   "metadata": {
    "collapsed": false
   },
   "outputs": [
    {
     "data": {
      "text/plain": [
       "array([         0, 1610612758, 1610612763, 1610612760, 1610612752,\n",
       "       1610612740, 1610612746, 1610612759, 1610612757, 1610612754,\n",
       "       1610612748, 1610612764, 1610612742, 1610612749, 1610612765,\n",
       "       1610612745, 1610612743, 1610612741, 1610612744, 1610612751,\n",
       "       1610612747, 1610612766, 1610612737, 1610612761, 1610612750,\n",
       "       1610612756, 1610612762, 1610612738, 1610612755, 1610612739,\n",
       "       1610612753])"
      ]
     },
     "execution_count": 22,
     "metadata": {},
     "output_type": "execute_result"
    }
   ],
   "source": [
    "df.TEAM_ID.unique()"
   ]
  },
  {
   "cell_type": "code",
   "execution_count": 13,
   "metadata": {
    "collapsed": false
   },
   "outputs": [
    {
     "name": "stdout",
     "output_type": "stream",
     "text": [
      "<class 'pandas.core.frame.DataFrame'>\n",
      "Int64Index: 4062 entries, 0 to 4061\n",
      "Data columns (total 12 columns):\n",
      "PERSON_ID                   4062 non-null int64\n",
      "DISPLAY_LAST_COMMA_FIRST    4062 non-null object\n",
      "ROSTERSTATUS                4062 non-null int64\n",
      "FROM_YEAR                   4062 non-null int64\n",
      "TO_YEAR                     4062 non-null int64\n",
      "PLAYERCODE                  4061 non-null object\n",
      "TEAM_ID                     4062 non-null int64\n",
      "TEAM_CITY                   4062 non-null object\n",
      "TEAM_NAME                   4062 non-null object\n",
      "TEAM_ABBREVIATION           4062 non-null object\n",
      "TEAM_CODE                   4062 non-null object\n",
      "GAMES_PLAYED_FLAG           4062 non-null object\n",
      "dtypes: int64(5), object(7)\n",
      "memory usage: 412.5+ KB\n"
     ]
    }
   ],
   "source": [
    "df.info()"
   ]
  },
  {
   "cell_type": "code",
   "execution_count": 14,
   "metadata": {
    "collapsed": false
   },
   "outputs": [
    {
     "data": {
      "text/plain": [
       "13      Kings\n",
       "75      Kings\n",
       "240     Kings\n",
       "508     Kings\n",
       "585     Kings\n",
       "591     Kings\n",
       "669     Kings\n",
       "720     Kings\n",
       "769     Kings\n",
       "950     Kings\n",
       "1234    Kings\n",
       "2025    Kings\n",
       "2390    Kings\n",
       "2524    Kings\n",
       "3097    Kings\n",
       "Name: TEAM_NAME, dtype: object"
      ]
     },
     "execution_count": 14,
     "metadata": {},
     "output_type": "execute_result"
    }
   ],
   "source": [
    "df[df.TEAM_ID==1610612758].TEAM_NAME"
   ]
  },
  {
   "cell_type": "code",
   "execution_count": 16,
   "metadata": {
    "collapsed": false
   },
   "outputs": [
    {
     "data": {
      "text/plain": [
       "13      1610612758\n",
       "75      1610612758\n",
       "240     1610612758\n",
       "508     1610612758\n",
       "585     1610612758\n",
       "591     1610612758\n",
       "669     1610612758\n",
       "720     1610612758\n",
       "769     1610612758\n",
       "950     1610612758\n",
       "1234    1610612758\n",
       "2025    1610612758\n",
       "2390    1610612758\n",
       "2524    1610612758\n",
       "3097    1610612758\n",
       "Name: TEAM_ID, dtype: int64"
      ]
     },
     "execution_count": 16,
     "metadata": {},
     "output_type": "execute_result"
    }
   ],
   "source": [
    "df[df.TEAM_NAME==\"Kings\"].TEAM_ID"
   ]
  },
  {
   "cell_type": "code",
   "execution_count": 17,
   "metadata": {
    "collapsed": false
   },
   "outputs": [
    {
     "data": {
      "text/plain": [
       "0       0\n",
       "1       0\n",
       "2       0\n",
       "3       0\n",
       "4       0\n",
       "5       0\n",
       "6       0\n",
       "7       0\n",
       "8       0\n",
       "9       0\n",
       "10      0\n",
       "11      0\n",
       "12      0\n",
       "14      0\n",
       "15      0\n",
       "16      0\n",
       "18      0\n",
       "20      0\n",
       "21      0\n",
       "22      0\n",
       "24      0\n",
       "25      0\n",
       "26      0\n",
       "27      0\n",
       "29      0\n",
       "30      0\n",
       "31      0\n",
       "32      0\n",
       "33      0\n",
       "34      0\n",
       "       ..\n",
       "4026    0\n",
       "4027    0\n",
       "4028    0\n",
       "4029    0\n",
       "4030    0\n",
       "4031    0\n",
       "4032    0\n",
       "4033    0\n",
       "4034    0\n",
       "4035    0\n",
       "4038    0\n",
       "4039    0\n",
       "4041    0\n",
       "4042    0\n",
       "4044    0\n",
       "4045    0\n",
       "4046    0\n",
       "4047    0\n",
       "4049    0\n",
       "4050    0\n",
       "4051    0\n",
       "4052    0\n",
       "4054    0\n",
       "4055    0\n",
       "4056    0\n",
       "4057    0\n",
       "4058    0\n",
       "4059    0\n",
       "4060    0\n",
       "4061    0\n",
       "Name: TEAM_ID, dtype: int64"
      ]
     },
     "execution_count": 17,
     "metadata": {},
     "output_type": "execute_result"
    }
   ],
   "source": [
    "df[df.TEAM_NAME==\"\"].TEAM_ID"
   ]
  },
  {
   "cell_type": "code",
   "execution_count": 20,
   "metadata": {
    "collapsed": false
   },
   "outputs": [
    {
     "data": {
      "text/plain": [
       "3615"
      ]
     },
     "execution_count": 20,
     "metadata": {},
     "output_type": "execute_result"
    }
   ],
   "source": [
    "len(df[df.TEAM_NAME==\"\"].TEAM_ID)"
   ]
  },
  {
   "cell_type": "code",
   "execution_count": 26,
   "metadata": {
    "collapsed": false
   },
   "outputs": [],
   "source": [
    "df2 = pd.DataFrame({\"TEAM_NAME\": df.TEAM_NAME.unique(),\n",
    "                    \"TEAM_ID\": df.TEAM_ID.unique()})"
   ]
  },
  {
   "cell_type": "code",
   "execution_count": 27,
   "metadata": {
    "collapsed": false
   },
   "outputs": [
    {
     "data": {
      "text/html": [
       "<div>\n",
       "<table border=\"1\" class=\"dataframe\">\n",
       "  <thead>\n",
       "    <tr style=\"text-align: right;\">\n",
       "      <th></th>\n",
       "      <th>TEAM_ID</th>\n",
       "      <th>TEAM_NAME</th>\n",
       "    </tr>\n",
       "  </thead>\n",
       "  <tbody>\n",
       "    <tr>\n",
       "      <th>0</th>\n",
       "      <td>0</td>\n",
       "      <td></td>\n",
       "    </tr>\n",
       "    <tr>\n",
       "      <th>1</th>\n",
       "      <td>1610612758</td>\n",
       "      <td>Kings</td>\n",
       "    </tr>\n",
       "    <tr>\n",
       "      <th>2</th>\n",
       "      <td>1610612763</td>\n",
       "      <td>Grizzlies</td>\n",
       "    </tr>\n",
       "    <tr>\n",
       "      <th>3</th>\n",
       "      <td>1610612760</td>\n",
       "      <td>Thunder</td>\n",
       "    </tr>\n",
       "    <tr>\n",
       "      <th>4</th>\n",
       "      <td>1610612752</td>\n",
       "      <td>Knicks</td>\n",
       "    </tr>\n",
       "    <tr>\n",
       "      <th>5</th>\n",
       "      <td>1610612740</td>\n",
       "      <td>Pelicans</td>\n",
       "    </tr>\n",
       "    <tr>\n",
       "      <th>6</th>\n",
       "      <td>1610612746</td>\n",
       "      <td>Clippers</td>\n",
       "    </tr>\n",
       "    <tr>\n",
       "      <th>7</th>\n",
       "      <td>1610612759</td>\n",
       "      <td>Spurs</td>\n",
       "    </tr>\n",
       "    <tr>\n",
       "      <th>8</th>\n",
       "      <td>1610612757</td>\n",
       "      <td>Trail Blazers</td>\n",
       "    </tr>\n",
       "    <tr>\n",
       "      <th>9</th>\n",
       "      <td>1610612754</td>\n",
       "      <td>Pacers</td>\n",
       "    </tr>\n",
       "    <tr>\n",
       "      <th>10</th>\n",
       "      <td>1610612748</td>\n",
       "      <td>Heat</td>\n",
       "    </tr>\n",
       "    <tr>\n",
       "      <th>11</th>\n",
       "      <td>1610612764</td>\n",
       "      <td>Wizards</td>\n",
       "    </tr>\n",
       "    <tr>\n",
       "      <th>12</th>\n",
       "      <td>1610612742</td>\n",
       "      <td>Mavericks</td>\n",
       "    </tr>\n",
       "    <tr>\n",
       "      <th>13</th>\n",
       "      <td>1610612749</td>\n",
       "      <td>Bucks</td>\n",
       "    </tr>\n",
       "    <tr>\n",
       "      <th>14</th>\n",
       "      <td>1610612765</td>\n",
       "      <td>Pistons</td>\n",
       "    </tr>\n",
       "    <tr>\n",
       "      <th>15</th>\n",
       "      <td>1610612745</td>\n",
       "      <td>Rockets</td>\n",
       "    </tr>\n",
       "    <tr>\n",
       "      <th>16</th>\n",
       "      <td>1610612743</td>\n",
       "      <td>Nuggets</td>\n",
       "    </tr>\n",
       "    <tr>\n",
       "      <th>17</th>\n",
       "      <td>1610612741</td>\n",
       "      <td>Bulls</td>\n",
       "    </tr>\n",
       "    <tr>\n",
       "      <th>18</th>\n",
       "      <td>1610612744</td>\n",
       "      <td>Warriors</td>\n",
       "    </tr>\n",
       "    <tr>\n",
       "      <th>19</th>\n",
       "      <td>1610612751</td>\n",
       "      <td>Nets</td>\n",
       "    </tr>\n",
       "    <tr>\n",
       "      <th>20</th>\n",
       "      <td>1610612747</td>\n",
       "      <td>Lakers</td>\n",
       "    </tr>\n",
       "    <tr>\n",
       "      <th>21</th>\n",
       "      <td>1610612766</td>\n",
       "      <td>Hornets</td>\n",
       "    </tr>\n",
       "    <tr>\n",
       "      <th>22</th>\n",
       "      <td>1610612737</td>\n",
       "      <td>Hawks</td>\n",
       "    </tr>\n",
       "    <tr>\n",
       "      <th>23</th>\n",
       "      <td>1610612761</td>\n",
       "      <td>Raptors</td>\n",
       "    </tr>\n",
       "    <tr>\n",
       "      <th>24</th>\n",
       "      <td>1610612750</td>\n",
       "      <td>Timberwolves</td>\n",
       "    </tr>\n",
       "    <tr>\n",
       "      <th>25</th>\n",
       "      <td>1610612756</td>\n",
       "      <td>Suns</td>\n",
       "    </tr>\n",
       "    <tr>\n",
       "      <th>26</th>\n",
       "      <td>1610612762</td>\n",
       "      <td>Jazz</td>\n",
       "    </tr>\n",
       "    <tr>\n",
       "      <th>27</th>\n",
       "      <td>1610612738</td>\n",
       "      <td>Celtics</td>\n",
       "    </tr>\n",
       "    <tr>\n",
       "      <th>28</th>\n",
       "      <td>1610612755</td>\n",
       "      <td>76ers</td>\n",
       "    </tr>\n",
       "    <tr>\n",
       "      <th>29</th>\n",
       "      <td>1610612739</td>\n",
       "      <td>Cavaliers</td>\n",
       "    </tr>\n",
       "    <tr>\n",
       "      <th>30</th>\n",
       "      <td>1610612753</td>\n",
       "      <td>Magic</td>\n",
       "    </tr>\n",
       "  </tbody>\n",
       "</table>\n",
       "</div>"
      ],
      "text/plain": [
       "       TEAM_ID      TEAM_NAME\n",
       "0            0               \n",
       "1   1610612758          Kings\n",
       "2   1610612763      Grizzlies\n",
       "3   1610612760        Thunder\n",
       "4   1610612752         Knicks\n",
       "5   1610612740       Pelicans\n",
       "6   1610612746       Clippers\n",
       "7   1610612759          Spurs\n",
       "8   1610612757  Trail Blazers\n",
       "9   1610612754         Pacers\n",
       "10  1610612748           Heat\n",
       "11  1610612764        Wizards\n",
       "12  1610612742      Mavericks\n",
       "13  1610612749          Bucks\n",
       "14  1610612765        Pistons\n",
       "15  1610612745        Rockets\n",
       "16  1610612743        Nuggets\n",
       "17  1610612741          Bulls\n",
       "18  1610612744       Warriors\n",
       "19  1610612751           Nets\n",
       "20  1610612747         Lakers\n",
       "21  1610612766        Hornets\n",
       "22  1610612737          Hawks\n",
       "23  1610612761        Raptors\n",
       "24  1610612750   Timberwolves\n",
       "25  1610612756           Suns\n",
       "26  1610612762           Jazz\n",
       "27  1610612738        Celtics\n",
       "28  1610612755          76ers\n",
       "29  1610612739      Cavaliers\n",
       "30  1610612753          Magic"
      ]
     },
     "execution_count": 27,
     "metadata": {},
     "output_type": "execute_result"
    }
   ],
   "source": [
    "df2"
   ]
  },
  {
   "cell_type": "code",
   "execution_count": 32,
   "metadata": {
    "collapsed": false
   },
   "outputs": [],
   "source": [
    "df2.iloc[0, 1] = \"No Team\""
   ]
  },
  {
   "cell_type": "code",
   "execution_count": 33,
   "metadata": {
    "collapsed": false
   },
   "outputs": [
    {
     "data": {
      "text/html": [
       "<div>\n",
       "<table border=\"1\" class=\"dataframe\">\n",
       "  <thead>\n",
       "    <tr style=\"text-align: right;\">\n",
       "      <th></th>\n",
       "      <th>TEAM_ID</th>\n",
       "      <th>TEAM_NAME</th>\n",
       "    </tr>\n",
       "  </thead>\n",
       "  <tbody>\n",
       "    <tr>\n",
       "      <th>0</th>\n",
       "      <td>0</td>\n",
       "      <td>No Team</td>\n",
       "    </tr>\n",
       "    <tr>\n",
       "      <th>1</th>\n",
       "      <td>1610612758</td>\n",
       "      <td>Kings</td>\n",
       "    </tr>\n",
       "    <tr>\n",
       "      <th>2</th>\n",
       "      <td>1610612763</td>\n",
       "      <td>Grizzlies</td>\n",
       "    </tr>\n",
       "    <tr>\n",
       "      <th>3</th>\n",
       "      <td>1610612760</td>\n",
       "      <td>Thunder</td>\n",
       "    </tr>\n",
       "    <tr>\n",
       "      <th>4</th>\n",
       "      <td>1610612752</td>\n",
       "      <td>Knicks</td>\n",
       "    </tr>\n",
       "  </tbody>\n",
       "</table>\n",
       "</div>"
      ],
      "text/plain": [
       "      TEAM_ID  TEAM_NAME\n",
       "0           0    No Team\n",
       "1  1610612758      Kings\n",
       "2  1610612763  Grizzlies\n",
       "3  1610612760    Thunder\n",
       "4  1610612752     Knicks"
      ]
     },
     "execution_count": 33,
     "metadata": {},
     "output_type": "execute_result"
    }
   ],
   "source": [
    "df2.head()"
   ]
  },
  {
   "cell_type": "code",
   "execution_count": 48,
   "metadata": {
    "collapsed": false
   },
   "outputs": [
    {
     "name": "stdout",
     "output_type": "stream",
     "text": [
      "<class 'pandas.core.frame.DataFrame'>\n",
      "Int64Index: 31 entries, 0 to 30\n",
      "Data columns (total 2 columns):\n",
      "TEAM_ID      31 non-null int64\n",
      "TEAM_NAME    31 non-null object\n",
      "dtypes: int64(1), object(1)\n",
      "memory usage: 744.0+ bytes\n"
     ]
    }
   ],
   "source": [
    "df2.info()"
   ]
  },
  {
   "cell_type": "code",
   "execution_count": 36,
   "metadata": {
    "collapsed": false
   },
   "outputs": [
    {
     "data": {
      "text/plain": [
       "1610612752"
      ]
     },
     "execution_count": 36,
     "metadata": {},
     "output_type": "execute_result"
    }
   ],
   "source": [
    "df2[df2.TEAM_NAME==\"Knicks\"].TEAM_ID.values[0]"
   ]
  },
  {
   "cell_type": "code",
   "execution_count": 47,
   "metadata": {
    "collapsed": false
   },
   "outputs": [
    {
     "data": {
      "text/plain": [
       "1610612752"
      ]
     },
     "execution_count": 47,
     "metadata": {},
     "output_type": "execute_result"
    }
   ],
   "source": [
    "df2[df2.TEAM_NAME==\"Knicks\"].TEAM_ID.iloc[0]"
   ]
  },
  {
   "cell_type": "code",
   "execution_count": 38,
   "metadata": {
    "collapsed": false
   },
   "outputs": [
    {
     "data": {
      "text/plain": [
       "numpy.int64"
      ]
     },
     "execution_count": 38,
     "metadata": {},
     "output_type": "execute_result"
    }
   ],
   "source": [
    "type(df2[df2.TEAM_NAME==\"Knicks\"].TEAM_ID.values[0])"
   ]
  },
  {
   "cell_type": "code",
   "execution_count": 39,
   "metadata": {
    "collapsed": false
   },
   "outputs": [
    {
     "data": {
      "text/plain": [
       "pandas.core.series.Series"
      ]
     },
     "execution_count": 39,
     "metadata": {},
     "output_type": "execute_result"
    }
   ],
   "source": [
    "type(df2[df2.TEAM_NAME==\"Knicks\"].TEAM_ID)"
   ]
  },
  {
   "cell_type": "code",
   "execution_count": null,
   "metadata": {
    "collapsed": true
   },
   "outputs": [],
   "source": [
    "def get_all_player_ids(ids=\"shots\"):\n",
    "    url = \"http://stats.nba.com/stats/commonallplayers?IsOnlyCurrentSeason=0&LeagueID=00&Season=2015-16\"\n",
    "\n",
    "    # get the web page\n",
    "    response = requests.get(url)\n",
    "    # access 'resultSets', which is a list containing the dict with all the data.\n",
    "    # The 'header' key accesses the headers\n",
    "    headers = response.json()['resultSets'][0]['headers']\n",
    "    # The 'rowSet' key contains the player data along with their IDs\n",
    "    players = response.json()['resultSets'][0]['rowSet']\n",
    "    # Create dataframe with proper numeric types\n",
    "    players_df = pd.DataFrame(players, columns=headers)\n",
    "    players_df = players_df.convert_objects(convert_numeric=True)\n",
    "\n",
    "    if ids == \"shots\":\n",
    "        df = players_df.query(\"(FROM_YEAR >= 2001) or (TO_YEAR >= 2001)\").reset_index(drop=True)\n",
    "        # just keep the player ids and names\n",
    "        player_ids = df.iloc[:,0:2]\n",
    "        return player_ids\n",
    "    if ids == \"all players\":\n",
    "        return players_df.iloc[:,0:2]\n",
    "    if ids == \"all data\":\n",
    "        return players_df  "
   ]
  },
  {
   "cell_type": "code",
   "execution_count": null,
   "metadata": {
    "collapsed": true
   },
   "outputs": [],
   "source": [
    "def get_player_id(player):\n",
    "        player_df = get_all_player_ids(\"all data\")\n",
    "        player_id = players_df[players_df.DISPLAY_LAST_COMMA_FIRST == player].PERSON_ID\n",
    "        if len(player_id) == 1:\n",
    "            return player_id.iloc[0]\n",
    "        if len(player_id) == 0:\n",
    "            raise NoPlayerError('There is no player with that name.')\n",
    "        return player_id.values"
   ]
  },
  {
   "cell_type": "code",
   "execution_count": null,
   "metadata": {
    "collapsed": true
   },
   "outputs": [],
   "source": [
    "def get_all_team_ids():\n",
    "    \n",
    "    # grab all the data then dwindle it down to just\n",
    "    # the TEAM_IDs and TEAM_NAMEs\n",
    "    # Then extract the desired TEAM_ID\n",
    "    df = get_player_id(\"ALL\")\n",
    "    df = pd.DataFrame({\"TEAM_NAME\": df.TEAM_NAME.unique(),\n",
    "                    \"TEAM_ID\": df.TEAM_ID.unique()})\n",
    "    return df"
   ]
  },
  {
   "cell_type": "code",
   "execution_count": null,
   "metadata": {
    "collapsed": true
   },
   "outputs": [],
   "source": [
    "def get_team_id(team_name):\n",
    "    team_id = df[df.TEAM_NAME==team_name].TEAM_ID.iloc[0]\n",
    "    return team_id"
   ]
  }
 ],
 "metadata": {
  "kernelspec": {
   "display_name": "Python 3",
   "language": "python",
   "name": "python3"
  },
  "language_info": {
   "codemirror_mode": {
    "name": "ipython",
    "version": 3
   },
   "file_extension": ".py",
   "mimetype": "text/x-python",
   "name": "python",
   "nbconvert_exporter": "python",
   "pygments_lexer": "ipython3",
   "version": "3.4.3"
  }
 },
 "nbformat": 4,
 "nbformat_minor": 0
}
